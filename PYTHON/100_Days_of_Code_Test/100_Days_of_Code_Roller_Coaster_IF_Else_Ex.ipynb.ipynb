{
 "cells": [
  {
   "cell_type": "code",
   "execution_count": 6,
   "id": "52ce68eb-6cae-4c48-80e8-6bbad29e027e",
   "metadata": {},
   "outputs": [
    {
     "name": "stdout",
     "output_type": "stream",
     "text": [
      "Wellcome to the RollerCoaster Ride!!\n"
     ]
    },
    {
     "name": "stdin",
     "output_type": "stream",
     "text": [
      "What is Height in cm?? 130\n"
     ]
    },
    {
     "name": "stdout",
     "output_type": "stream",
     "text": [
      "You are Eligible to Ride RollerCoaster Ride...\n"
     ]
    },
    {
     "name": "stdin",
     "output_type": "stream",
     "text": [
      "How old are You? 65\n"
     ]
    },
    {
     "name": "stdout",
     "output_type": "stream",
     "text": [
      "You don't have to Pay Anything, Have a Free Ride with US\n"
     ]
    },
    {
     "name": "stdin",
     "output_type": "stream",
     "text": [
      "Do You Want to Take Photo?, Y or N ? y\n"
     ]
    },
    {
     "name": "stdout",
     "output_type": "stream",
     "text": [
      "You have to Pay Extar $3\n",
      "So,Your Total Bill $3\n"
     ]
    }
   ],
   "source": [
    "print(\"Wellcome to the RollerCoaster Ride!!\")\n",
    "height = float(input(\"What is Height in cm??\"))\n",
    "bill = 0\n",
    "if height > 120:\n",
    "    print(\"You are Eligible to Ride RollerCoaster Ride...\")\n",
    "    age = int(input(\"How old are You?\"))\n",
    "    if age < 12:\n",
    "        bill = 5\n",
    "        print(\"Child have to Pay $5\")\n",
    "    elif age < 18:\n",
    "        bill = 7\n",
    "        print(\"Youth have to Pay $7\")\n",
    "    elif (age >= 55) and (age <= 90):\n",
    "        print(\"You don't have to Pay Anything, Have a Free Ride with US\")\n",
    "    else:\n",
    "        bill = 12\n",
    "        print(\"Adult have to Pay $12\")\n",
    "    \n",
    "    photo = input(\"Do You Want to Take Photo?, Y or N ?\")\n",
    "    if photo == \"y\":\n",
    "        bill += 3\n",
    "        print(\"You have to Pay Extar $3\")\n",
    "        \n",
    "    print(f\"So,Your Total Bill ${bill}\")\n",
    "        \n",
    "    \n",
    "else:\n",
    "    print(\"Sorry,You have to grow taller to Ride RollerCoaster\")\n"
   ]
  }
 ],
 "metadata": {
  "kernelspec": {
   "display_name": "Python 3 (ipykernel)",
   "language": "python",
   "name": "python3"
  },
  "language_info": {
   "codemirror_mode": {
    "name": "ipython",
    "version": 3
   },
   "file_extension": ".py",
   "mimetype": "text/x-python",
   "name": "python",
   "nbconvert_exporter": "python",
   "pygments_lexer": "ipython3",
   "version": "3.11.7"
  }
 },
 "nbformat": 4,
 "nbformat_minor": 5
}
