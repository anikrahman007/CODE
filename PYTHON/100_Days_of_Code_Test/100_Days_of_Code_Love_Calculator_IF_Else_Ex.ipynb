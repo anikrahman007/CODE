{
 "cells": [
  {
   "cell_type": "code",
   "execution_count": 9,
   "id": "13d8d013-142b-416c-b3dd-ccd6ca4fe6e4",
   "metadata": {},
   "outputs": [
    {
     "name": "stdin",
     "output_type": "stream",
     "text": [
      "Do You Want Use 'love Calculator'!!!, Y or N?? n\n"
     ]
    },
    {
     "name": "stdout",
     "output_type": "stream",
     "text": [
      "There is No Love Left in This World...\n"
     ]
    }
   ],
   "source": [
    "love_cal = input(\"Do You Want Use 'love Calculator'!!!, Y or N??\")\n",
    "if love_cal == \"y\":\n",
    "    print(\"The Love Calculator is Calculating Your Score...\")\n",
    "    name1 = input(\"Type Your 1st Name\")\n",
    "    name2 = input(\"Type Your 2nd Name\")\n",
    "\n",
    "    name_check = name1.lower() + name2.lower()\n",
    "    \n",
    "    t = name_check.count(\"t\")\n",
    "    r = name_check.count(\"r\")\n",
    "    u = name_check.count(\"u\")\n",
    "    e = name_check.count(\"e\")\n",
    "\n",
    "    first_digit = t + r + u + e\n",
    "\n",
    "    l = name_check.count(\"l\")\n",
    "    o = name_check.count(\"o\")\n",
    "    v = name_check.count(\"v\")\n",
    "    e = name_check.count(\"e\")\n",
    "\n",
    "    second_digit = l + o + v + e\n",
    "\n",
    "    score = int(str(first_digit) + str(second_digit))\n",
    "\n",
    "    if (score < 10) or (score > 90):\n",
    "        print(f\"Your Love Score is {score}, You Go Together like Coke and Mentos...\")\n",
    "    elif (score >=40) and (score <=50):\n",
    "        print(f\"Your Love Score is {score}, You are Alright Together...\")\n",
    "    else:\n",
    "        print(f\"Your Love Score is {score}, What Happens Future will Tell, It's Both of Your Choice.\")\n",
    "\n",
    "else:\n",
    "    print(\"There is No Love Left in This World...\")\n",
    "\n",
    "    \n"
   ]
  }
 ],
 "metadata": {
  "kernelspec": {
   "display_name": "Python 3 (ipykernel)",
   "language": "python",
   "name": "python3"
  },
  "language_info": {
   "codemirror_mode": {
    "name": "ipython",
    "version": 3
   },
   "file_extension": ".py",
   "mimetype": "text/x-python",
   "name": "python",
   "nbconvert_exporter": "python",
   "pygments_lexer": "ipython3",
   "version": "3.11.7"
  }
 },
 "nbformat": 4,
 "nbformat_minor": 5
}
