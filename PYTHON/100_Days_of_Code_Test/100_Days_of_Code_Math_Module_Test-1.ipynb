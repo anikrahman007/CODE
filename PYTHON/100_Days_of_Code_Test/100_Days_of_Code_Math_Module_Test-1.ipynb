{
 "cells": [
  {
   "cell_type": "code",
   "execution_count": 14,
   "id": "cdfe3d33-e3a4-4759-9361-51d08accce0c",
   "metadata": {},
   "outputs": [
    {
     "name": "stdin",
     "output_type": "stream",
     "text": [
      "Enter the Radious Value of Circule: 4\n"
     ]
    },
    {
     "name": "stdout",
     "output_type": "stream",
     "text": [
      "The Area of Circle is: 50.27\n"
     ]
    },
    {
     "name": "stdin",
     "output_type": "stream",
     "text": [
      "Enter the number you want factorial: 4\n"
     ]
    },
    {
     "name": "stdout",
     "output_type": "stream",
     "text": [
      "The factorial is: 24\n"
     ]
    }
   ],
   "source": [
    "import math\n",
    "r = int(input(\"Enter the Radious Value of Circule:\"))\n",
    "area = round((math.pi * pow(r,2)),2)\n",
    "print(f\"The Area of Circle is: {area}\")\n",
    "\n",
    "number = int(input(\"Enter the number you want factorial:\"))\n",
    "fac = math.factorial(number)\n",
    "print(f\"The factorial is: {fac}\")"
   ]
  }
 ],
 "metadata": {
  "kernelspec": {
   "display_name": "Python 3 (ipykernel)",
   "language": "python",
   "name": "python3"
  },
  "language_info": {
   "codemirror_mode": {
    "name": "ipython",
    "version": 3
   },
   "file_extension": ".py",
   "mimetype": "text/x-python",
   "name": "python",
   "nbconvert_exporter": "python",
   "pygments_lexer": "ipython3",
   "version": "3.11.7"
  }
 },
 "nbformat": 4,
 "nbformat_minor": 5
}
