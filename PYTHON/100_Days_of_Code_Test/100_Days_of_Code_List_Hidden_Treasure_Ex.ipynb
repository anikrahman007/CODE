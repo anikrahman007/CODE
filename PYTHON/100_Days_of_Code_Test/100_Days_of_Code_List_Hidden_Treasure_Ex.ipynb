{
 "cells": [
  {
   "cell_type": "code",
   "execution_count": 19,
   "id": "10e1dd5e-8bba-4c88-a808-10279ebc51ac",
   "metadata": {},
   "outputs": [
    {
     "name": "stdout",
     "output_type": "stream",
     "text": [
      "Hiding Your Treasure! X Marks the Spot.\n"
     ]
    },
    {
     "name": "stdin",
     "output_type": "stream",
     "text": [
      " B1\n"
     ]
    },
    {
     "name": "stdout",
     "output_type": "stream",
     "text": [
      "[' ', 'X', ' '], \n",
      "[' ', ' ', ' '], \n",
      "[' ', ' ', ' ']\n"
     ]
    }
   ],
   "source": [
    "line1 = [\" \", \" \", \" \"]\n",
    "line2 = [\" \", \" \", \" \"]\n",
    "line3 = [\" \", \" \", \" \"]\n",
    "\n",
    "map = [line1, line2, line3]\n",
    "\n",
    "print(\"Hiding Your Treasure! X Marks the Spot.\")\n",
    "position = input()\n",
    "letter = position[0].lower()\n",
    "abc = [\"a\", \"b\", \"c\"]\n",
    "letter_index = abc.index(letter)\n",
    "number_index = int(position[1]) - 1\n",
    "map[number_index][letter_index] = \"X\"\n",
    "\n",
    "print(f\"{line1}, \\n{line2}, \\n{line3}\")"
   ]
  }
 ],
 "metadata": {
  "kernelspec": {
   "display_name": "Python 3 (ipykernel)",
   "language": "python",
   "name": "python3"
  },
  "language_info": {
   "codemirror_mode": {
    "name": "ipython",
    "version": 3
   },
   "file_extension": ".py",
   "mimetype": "text/x-python",
   "name": "python",
   "nbconvert_exporter": "python",
   "pygments_lexer": "ipython3",
   "version": "3.11.7"
  }
 },
 "nbformat": 4,
 "nbformat_minor": 5
}
