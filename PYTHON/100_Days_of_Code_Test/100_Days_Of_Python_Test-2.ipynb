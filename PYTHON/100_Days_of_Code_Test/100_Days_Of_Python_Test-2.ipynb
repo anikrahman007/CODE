{
 "cells": [
  {
   "cell_type": "code",
   "execution_count": 32,
   "id": "a524a4fd-21a5-4842-ac72-63c4542ec98b",
   "metadata": {},
   "outputs": [
    {
     "name": "stdout",
     "output_type": "stream",
     "text": [
      "it's Already tood late, Getup Now!!!\n",
      "Have a Nice Day\n"
     ]
    }
   ],
   "source": [
    "import time\n",
    "a = int(time.strftime('%H'))\n",
    "#a = int(input(\"What Time is It: \"))\n",
    "if(a >= 8 and a <= 10):\n",
    "    print(\"Good Morning Buddies\")\n",
    "elif(a > 10 and a <= 12):\n",
    "    print(\"it's Already tood late, Getup Now!!!\")\n",
    "    if(a > 12 and a >= 2):\n",
    "        print(\"It's Almost Afternoon\")\n",
    "    elif(a > 2 and a <= 4):\n",
    "        print(\"Good Afternoon Buddies\")\n",
    "        if(a > 4 and a >= 5):\n",
    "            print(\"It's Almost Evening\")\n",
    "        elif(a > 5 and a <= 7):\n",
    "            print(\"Good Evening\")\n",
    "        else:print(\"Time is Almost Over\")\n",
    "    else:print(\"Have a Nice Day\")\n",
    "    \n",
    "else:(\"Good Night Buddies\")    \n",
    "\n",
    "    "
   ]
  },
  {
   "cell_type": "code",
   "execution_count": null,
   "id": "d3c72056-d85a-4b22-a2dc-588257bb912a",
   "metadata": {},
   "outputs": [],
   "source": []
  }
 ],
 "metadata": {
  "kernelspec": {
   "display_name": "Python 3 (ipykernel)",
   "language": "python",
   "name": "python3"
  },
  "language_info": {
   "codemirror_mode": {
    "name": "ipython",
    "version": 3
   },
   "file_extension": ".py",
   "mimetype": "text/x-python",
   "name": "python",
   "nbconvert_exporter": "python",
   "pygments_lexer": "ipython3",
   "version": "3.11.7"
  }
 },
 "nbformat": 4,
 "nbformat_minor": 5
}
