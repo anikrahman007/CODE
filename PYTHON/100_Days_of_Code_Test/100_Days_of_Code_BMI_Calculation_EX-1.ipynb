{
 "cells": [
  {
   "cell_type": "code",
   "execution_count": 1,
   "id": "0f9ac3d1-3fcd-4f63-acd1-f479af0938c0",
   "metadata": {},
   "outputs": [
    {
     "name": "stdin",
     "output_type": "stream",
     "text": [
      " 1.5875\n",
      " 98\n"
     ]
    }
   ],
   "source": [
    "height = float(input())\n",
    "weight = float(input())"
   ]
  },
  {
   "cell_type": "code",
   "execution_count": 2,
   "id": "ad09ee7d-28ba-4838-af17-7965d8f1ec08",
   "metadata": {},
   "outputs": [
    {
     "name": "stdout",
     "output_type": "stream",
     "text": [
      "This person bmi is: 38.88647777295555\n"
     ]
    }
   ],
   "source": [
    "bmi = print(\"This person bmi is:\", weight / (height * height))"
   ]
  },
  {
   "cell_type": "code",
   "execution_count": 1,
   "id": "14539bb8-2fd9-4ff7-a76f-371b9d1fdb59",
   "metadata": {},
   "outputs": [
    {
     "name": "stdin",
     "output_type": "stream",
     "text": [
      "What is Your Name: anik\n",
      "What is Your Age: 12\n",
      "Your Gender: female\n",
      "What is Your Height in inch: 120\n",
      "What is Your Weight in Kg: 62\n"
     ]
    },
    {
     "name": "stdout",
     "output_type": "stream",
     "text": [
      "anik 12 Years Old female & BMI(Body Mass Index) is: 6\n",
      "anik 12 Years Old female & BMI(Body Mass Index) is: 6, You are UnderWeight\n"
     ]
    }
   ],
   "source": [
    "name = input(\"What is Your Name:\")\n",
    "age = input(\"What is Your Age:\")\n",
    "gender = input(\"Your Gender:\")\n",
    "x = float(input(\"What is Your Height in inch:\"))\n",
    "weight = float(input(\"What is Your Weight in Kg:\"))\n",
    "height = ((x / 39.371) * (x / 39.371))\n",
    "bmi = int(weight / height)\n",
    "print(name, age, \"Years Old\", gender, \"& BMI(Body Mass Index) is:\", bmi)\n",
    "\n",
    "\n",
    "if bmi < 18.5: \n",
    "    print(f\"{name} {age} Years Old {gender} & BMI(Body Mass Index) is: {bmi}, You are UnderWeight\")\n",
    "elif(bmi > 18.5 and bmi <= 25):\n",
    "    print(f\"{name} {age} Years Old {gender} & BMI(Body Mass Index) is: {bmi},You are Normal Weight\")\n",
    "elif(bmi > 25 and bmi <= 30):\n",
    "    print(f\"{name} {age} Years Old {gender} & BMI(Body Mass Index) is: {bmi},You are Slightly Weight\")\n",
    "elif(bmi > 30 and bmi <= 35):\n",
    "    print(f\"{name} {age} Years Old {gender} & BMI(Body Mass Index) is: {bmi},You are Obese\")\n",
    "else:\n",
    "    print(f\"{name} {age} Years Old {gender} & BMI(Body Mass Index) is: {bmi},You are clinically Obese \\nand You are Completely Unfit for Health Condition\")"
   ]
  },
  {
   "cell_type": "code",
   "execution_count": null,
   "id": "c8211102-510d-4227-994c-58f1599e7b1b",
   "metadata": {},
   "outputs": [],
   "source": []
  }
 ],
 "metadata": {
  "kernelspec": {
   "display_name": "Python 3 (ipykernel)",
   "language": "python",
   "name": "python3"
  },
  "language_info": {
   "codemirror_mode": {
    "name": "ipython",
    "version": 3
   },
   "file_extension": ".py",
   "mimetype": "text/x-python",
   "name": "python",
   "nbconvert_exporter": "python",
   "pygments_lexer": "ipython3",
   "version": "3.11.7"
  }
 },
 "nbformat": 4,
 "nbformat_minor": 5
}
