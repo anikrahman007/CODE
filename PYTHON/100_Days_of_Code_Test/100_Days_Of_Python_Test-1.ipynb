{
 "cells": [
  {
   "cell_type": "code",
   "execution_count": 1,
   "id": "dd15ceb1-84a1-4077-8eda-6f5f2d76aefe",
   "metadata": {},
   "outputs": [
    {
     "name": "stdin",
     "output_type": "stream",
     "text": [
      "Enter the 1st number:  10\n",
      "Enter the 2nd number:  20\n"
     ]
    },
    {
     "name": "stdout",
     "output_type": "stream",
     "text": [
      "The Addition of 10 and 20 is 30\n",
      "The Subtraction of 10 and 20 is -10\n",
      "The Multiplication of 10 and 20 is 200\n",
      "The Division of 10 and 20 is 0.5\n",
      "The Exponential of 10 and 20 is 100000000000000000000\n",
      "The Modulas of 10 and 20 is 10\n",
      "The Floor Division of 10 and 20 is 0\n",
      " \n",
      " \n"
     ]
    },
    {
     "name": "stdin",
     "output_type": "stream",
     "text": [
      "Enter the 1st number:  10.487\n",
      "Enter the 2nd number:  13.02465897\n"
     ]
    },
    {
     "name": "stdout",
     "output_type": "stream",
     "text": [
      "The Addition of 10.487 and 13.02465897 is 23.51165897\n",
      "The Subtraction of 10.487 and 13.02465897 is -2.5376589700000007\n",
      "The Multiplication of 10.487 and 13.02465897 is 136.58959861839\n",
      "The Division of 10.487 and 13.02465897 is 0.805165035349866\n",
      "The Exponential of 10.487 and 13.02465897 is 19662316974891.29\n",
      "The Modulas of 10.487 and 13.02465897 is 10.487\n",
      "The Floor Division of 10.487 and 13.02465897 is 0.0\n"
     ]
    }
   ],
   "source": [
    "#\"**** Let's Think & Begin $$$$$\"\n",
    "#\"Project: Calculator\"\n",
    "#\"Author:CodeWithAnik\"\n",
    "#\"Developer: Anik\"\n",
    "#\"Date: 27/03/2024\"\n",
    "\n",
    "a = int(input(\"Enter the 1st number: \"))\n",
    "b = int(input(\"Enter the 2nd number: \"))\n",
    "\n",
    "print(\"The Addition of\", a, \"and\", b, \"is\", a + b)\n",
    "print(\"The Subtraction of\", a, \"and\", b, \"is\", a - b)\n",
    "print(\"The Multiplication of\", a, \"and\", b, \"is\", a * b)\n",
    "print(\"The Division of\", a, \"and\", b, \"is\", a / b)\n",
    "print(\"The Exponential of\", a, \"and\", b, \"is\", a**b)\n",
    "print(\"The Modulas of\", a, \"and\", b, \"is\", a % b)\n",
    "print(\"The Floor Division of\", a, \"and\", b, \"is\", a // b, end=\"\\n \\n \\n\")\n",
    "\n",
    "a = float(input(\"Enter the 1st number: \"))\n",
    "b = float(input(\"Enter the 2nd number: \"))\n",
    "\n",
    "print(\"The Addition of\", a, \"and\", b, \"is\", a + b)\n",
    "print(\"The Subtraction of\", a, \"and\", b, \"is\", a - b)\n",
    "print(\"The Multiplication of\", a, \"and\", b, \"is\", a * b)\n",
    "print(\"The Division of\", a, \"and\", b, \"is\", a / b)\n",
    "print(\"The Exponential of\", a, \"and\", b, \"is\", a**b)\n",
    "print(\"The Modulas of\", a, \"and\", b, \"is\", a % b)\n",
    "print(\"The Floor Division of\", a, \"and\", b, \"is\", a // b)"
   ]
  },
  {
   "cell_type": "code",
   "execution_count": null,
   "id": "28a60f55-f334-448c-b796-5ac81b1d4224",
   "metadata": {},
   "outputs": [],
   "source": []
  }
 ],
 "metadata": {
  "kernelspec": {
   "display_name": "Python 3 (ipykernel)",
   "language": "python",
   "name": "python3"
  },
  "language_info": {
   "codemirror_mode": {
    "name": "ipython",
    "version": 3
   },
   "file_extension": ".py",
   "mimetype": "text/x-python",
   "name": "python",
   "nbconvert_exporter": "python",
   "pygments_lexer": "ipython3",
   "version": "3.11.7"
  }
 },
 "nbformat": 4,
 "nbformat_minor": 5
}
