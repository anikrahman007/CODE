{
 "cells": [
  {
   "cell_type": "code",
   "execution_count": 37,
   "id": "d5b5ea15-ce70-4cfc-9e12-a45a0622ef93",
   "metadata": {},
   "outputs": [
    {
     "name": "stdin",
     "output_type": "stream",
     "text": [
      "What Do You Choose?Type 0 for Rock, 1 for Paper or 2 for Scissors 0\n"
     ]
    },
    {
     "name": "stdout",
     "output_type": "stream",
     "text": [
      "     _______\n",
      "---'   ____)\n",
      "      (_____)\n",
      "      (_____)\n",
      "      (____)\n",
      "---.__(___) \n",
      "Computer Chose:\n",
      "    _______\n",
      "---'   ____)____\n",
      "          ______)\n",
      "       __________)\n",
      "      (____)\n",
      "---.__(___) \n",
      "You Win...Hurrah!!!\n"
     ]
    }
   ],
   "source": [
    "import random\n",
    "rock = '''     _______\n",
    "---'   ____)\n",
    "      (_____)\n",
    "      (_____)\n",
    "      (____)\n",
    "---.__(___) '''\n",
    "paper = '''    _______\n",
    "---'   ____)____\n",
    "          ______)\n",
    "          _______)\n",
    "         _______)\n",
    "---.__________) '''\n",
    "scissors = '''    _______\n",
    "---'   ____)____\n",
    "          ______)\n",
    "       __________)\n",
    "      (____)\n",
    "---.__(___) '''\n",
    "\n",
    "game_choice = [rock, paper, scissors]\n",
    "\n",
    "user_choice = int(input(\"What Do You Choose?Type 0 for Rock, 1 for Paper or 2 for Scissors\"))\n",
    "if user_choice >= 3 or user_choice < 0:\n",
    "    print(\"You Typed a Wrong Number... You Lose\")\n",
    "else:\n",
    "    print(game_choice[user_choice])\n",
    "    computer_choice = random.randint(0, 2)\n",
    "    print(\"Computer Chose:\")\n",
    "    print(game_choice[computer_choice])\n",
    "    \n",
    "    if user_choice == computer_choice:\n",
    "        print(\"Result is Draw!!!\")\n",
    "        print(\"Let's Try Again...\")\n",
    "    elif user_choice == 0 and computer_choice == 2:\n",
    "        print(\"You Win...Hurrah!!!\")\n",
    "    elif computer_choice == 0 and user_choice == 2:\n",
    "        print(\"You Lose...Daah\")\n",
    "    elif computer_choice > user_choice:\n",
    "        print(\"You Lose...Daah\")\n",
    "    elif user_choice > computer_choice:\n",
    "        print(\"You Win...Hurrah\")\n",
    "          \n",
    "    \n",
    "    \n",
    "\n",
    "    \n",
    "\n",
    "   \n",
    "\n"
   ]
  }
 ],
 "metadata": {
  "kernelspec": {
   "display_name": "Python 3 (ipykernel)",
   "language": "python",
   "name": "python3"
  },
  "language_info": {
   "codemirror_mode": {
    "name": "ipython",
    "version": 3
   },
   "file_extension": ".py",
   "mimetype": "text/x-python",
   "name": "python",
   "nbconvert_exporter": "python",
   "pygments_lexer": "ipython3",
   "version": "3.11.7"
  }
 },
 "nbformat": 4,
 "nbformat_minor": 5
}
