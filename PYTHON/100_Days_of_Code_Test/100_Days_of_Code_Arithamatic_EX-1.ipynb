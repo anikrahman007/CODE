{
 "cells": [
  {
   "cell_type": "code",
   "execution_count": 2,
   "id": "81508266-7860-44e6-9d08-bb444fe47581",
   "metadata": {},
   "outputs": [
    {
     "name": "stdout",
     "output_type": "stream",
     "text": [
      "Hello Snake\n",
      "-3.1111111111111107\n",
      "7.0\n",
      "11.0\n",
      "7.0\n",
      "3.0\n",
      "3.0\n"
     ]
    }
   ],
   "source": [
    "print(\"Hello Snake\")\n",
    "print(3 - 3 / 3 ** 3 + 3 - 3 * 3)\n",
    "print(3 * 3 - 3 + 3 / 3)\n",
    "print(3 * 3 - 3 / 3 + 3)\n",
    "print(3 * 3 + 3 / 3 - 3)\n",
    "print(3 * ((3 + 3) / 3) - 3)\n",
    "print(3 * (3 + 3) / 3 - 3)\n"
   ]
  },
  {
   "cell_type": "code",
   "execution_count": null,
   "id": "26b6c28c-fcf8-4c4c-b0c7-f3275fd2713c",
   "metadata": {},
   "outputs": [],
   "source": []
  }
 ],
 "metadata": {
  "kernelspec": {
   "display_name": "Python 3 (ipykernel)",
   "language": "python",
   "name": "python3"
  },
  "language_info": {
   "codemirror_mode": {
    "name": "ipython",
    "version": 3
   },
   "file_extension": ".py",
   "mimetype": "text/x-python",
   "name": "python",
   "nbconvert_exporter": "python",
   "pygments_lexer": "ipython3",
   "version": "3.11.7"
  }
 },
 "nbformat": 4,
 "nbformat_minor": 5
}
