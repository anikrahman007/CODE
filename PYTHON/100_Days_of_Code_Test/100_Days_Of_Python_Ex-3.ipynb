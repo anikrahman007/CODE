{
 "cells": [
  {
   "cell_type": "code",
   "execution_count": 30,
   "id": "244c50e5-3461-4e2b-8cc1-ca26a6af7db9",
   "metadata": {},
   "outputs": [
    {
     "name": "stdout",
     "output_type": "stream",
     "text": [
      "A,n,i,k,R,a,h,m,a,n,C,h,o,w,d,h,u,r,y,"
     ]
    }
   ],
   "source": [
    "name = \"AnikRahmanChowdhury\"\n",
    "for x in name:\n",
    "    print(x, end=',')\n",
    "    #print(x, end='|')\n",
    "    #print(x)"
   ]
  },
  {
   "cell_type": "code",
   "execution_count": 33,
   "id": "cd2ec646-7d19-41df-8f87-98a01c375edd",
   "metadata": {},
   "outputs": [
    {
     "name": "stdout",
     "output_type": "stream",
     "text": [
      "apple\n",
      "This is for you\n",
      "a\n",
      "p\n",
      "p\n",
      "l\n",
      "e\n",
      "banana\n"
     ]
    }
   ],
   "source": [
    "fruits = [\"apple\", \"banana\", \"cherry\"]\n",
    "for x in fruits:\n",
    "  print(x)\n",
    "  if(x == 'banana'):\n",
    "      break\n",
    "  print('This is for you')\n",
    "  for y in x:\n",
    "    print(y)"
   ]
  },
  {
   "cell_type": "code",
   "execution_count": 36,
   "id": "40e0312c-3aa4-4989-bd23-781a016061f2",
   "metadata": {},
   "outputs": [
    {
     "name": "stdout",
     "output_type": "stream",
     "text": [
      "0\n",
      "1\n",
      "2\n",
      "3\n",
      "4\n"
     ]
    }
   ],
   "source": [
    "for a in range(5):\n",
    "    print(a)"
   ]
  },
  {
   "cell_type": "code",
   "execution_count": 37,
   "id": "ad4ff99a-043c-4875-b7da-bf69c6d47c83",
   "metadata": {},
   "outputs": [
    {
     "name": "stdout",
     "output_type": "stream",
     "text": [
      "1\n",
      "3\n",
      "5\n",
      "7\n",
      "9\n"
     ]
    }
   ],
   "source": [
    "for a in range(1, 10, 2):\n",
    "    print(a)"
   ]
  },
  {
   "cell_type": "code",
   "execution_count": null,
   "id": "a8840d43-777b-4913-8dcc-7ea762cbafb9",
   "metadata": {},
   "outputs": [],
   "source": []
  }
 ],
 "metadata": {
  "kernelspec": {
   "display_name": "Python 3 (ipykernel)",
   "language": "python",
   "name": "python3"
  },
  "language_info": {
   "codemirror_mode": {
    "name": "ipython",
    "version": 3
   },
   "file_extension": ".py",
   "mimetype": "text/x-python",
   "name": "python",
   "nbconvert_exporter": "python",
   "pygments_lexer": "ipython3",
   "version": "3.11.7"
  }
 },
 "nbformat": 4,
 "nbformat_minor": 5
}
