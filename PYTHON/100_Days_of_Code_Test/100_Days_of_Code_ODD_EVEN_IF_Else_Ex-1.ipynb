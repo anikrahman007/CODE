{
 "cells": [
  {
   "cell_type": "code",
   "execution_count": 3,
   "id": "613b2a98-b74f-4a5a-a509-65facc12e959",
   "metadata": {},
   "outputs": [
    {
     "name": "stdout",
     "output_type": "stream",
     "text": [
      "Welcome to The Odd and Even World !!!\n"
     ]
    },
    {
     "name": "stdin",
     "output_type": "stream",
     "text": [
      "Enter Your Desire Number 94\n"
     ]
    },
    {
     "name": "stdout",
     "output_type": "stream",
     "text": [
      "This number is even\n"
     ]
    }
   ],
   "source": [
    "print(\"Welcome to The Odd and Even World !!!\")\n",
    "number = int(input(\"Enter Your Desire Number\"))\n",
    "if (number % 2)== 0:\n",
    "    print(\"This is even number\")\n",
    "else:\n",
    "    print(\"This is odd number\")"
   ]
  },
  {
   "cell_type": "code",
   "execution_count": null,
   "id": "5bea86bb-9382-4b63-9635-6be533056d2e",
   "metadata": {},
   "outputs": [],
   "source": []
  }
 ],
 "metadata": {
  "kernelspec": {
   "display_name": "Python 3 (ipykernel)",
   "language": "python",
   "name": "python3"
  },
  "language_info": {
   "codemirror_mode": {
    "name": "ipython",
    "version": 3
   },
   "file_extension": ".py",
   "mimetype": "text/x-python",
   "name": "python",
   "nbconvert_exporter": "python",
   "pygments_lexer": "ipython3",
   "version": "3.11.7"
  }
 },
 "nbformat": 4,
 "nbformat_minor": 5
}
