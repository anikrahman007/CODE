{
 "cells": [
  {
   "cell_type": "code",
   "execution_count": 23,
   "id": "77654786-fd86-48d0-a1cc-7d0d72eaf836",
   "metadata": {},
   "outputs": [
    {
     "name": "stdout",
     "output_type": "stream",
     "text": [
      "3\n",
      "4.713751944564788\n"
     ]
    }
   ],
   "source": [
    "import random\n",
    "random_decimal = random.randint(0, 6)\n",
    "print(random_decimal)\n",
    "\n",
    "random_float = random.random() * 6\n",
    "print(random_float)"
   ]
  }
 ],
 "metadata": {
  "kernelspec": {
   "display_name": "Python 3 (ipykernel)",
   "language": "python",
   "name": "python3"
  },
  "language_info": {
   "codemirror_mode": {
    "name": "ipython",
    "version": 3
   },
   "file_extension": ".py",
   "mimetype": "text/x-python",
   "name": "python",
   "nbconvert_exporter": "python",
   "pygments_lexer": "ipython3",
   "version": "3.11.7"
  }
 },
 "nbformat": 4,
 "nbformat_minor": 5
}
