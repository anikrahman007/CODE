{
 "cells": [
  {
   "cell_type": "code",
   "execution_count": 14,
   "id": "4e677b61-b180-4d62-9daf-559a5f150ccd",
   "metadata": {},
   "outputs": [
    {
     "name": "stdout",
     "output_type": "stream",
     "text": [
      "Welcome to the TIP Calculator\n"
     ]
    },
    {
     "name": "stdin",
     "output_type": "stream",
     "text": [
      "What was the Total Bill? $ 150\n",
      "How Much Tip Would You Like to Give? 10, 12 or 15? 10\n",
      "How many People to Split The Bill? 12\n"
     ]
    },
    {
     "name": "stdout",
     "output_type": "stream",
     "text": [
      "Each Person Should pay: $13.75\n"
     ]
    }
   ],
   "source": [
    "print(\"Welcome to the TIP Calculator!!!\")\n",
    "bill = float(input(\"What was the Total Bill? $\"))\n",
    "tip = int(input(\"How Much Tip Would You Like to Give? 10, 12 or 15?\"))\n",
    "people = int(input(\"How many People to Split The Bill?\"))\n",
    "tip_per_person = (bill * (tip / 100))\n",
    "total_bill_per_person = round((bill + tip_per_person) / people, 2)\n",
    "total_bill_per_person = \"{:.2f}\".format(total_bill_per_person)\n",
    "print(f\"Each Person Should pay: ${total_bill_per_person}\")\n"
   ]
  }
 ],
 "metadata": {
  "kernelspec": {
   "display_name": "Python 3 (ipykernel)",
   "language": "python",
   "name": "python3"
  },
  "language_info": {
   "codemirror_mode": {
    "name": "ipython",
    "version": 3
   },
   "file_extension": ".py",
   "mimetype": "text/x-python",
   "name": "python",
   "nbconvert_exporter": "python",
   "pygments_lexer": "ipython3",
   "version": "3.11.7"
  }
 },
 "nbformat": 4,
 "nbformat_minor": 5
}
