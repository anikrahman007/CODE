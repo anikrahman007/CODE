{
 "cells": [
  {
   "cell_type": "code",
   "execution_count": 1,
   "id": "5da037f6-7f6f-46a3-893a-55aef811d621",
   "metadata": {},
   "outputs": [
    {
     "data": {
      "text/plain": [
       "70"
      ]
     },
     "execution_count": 1,
     "metadata": {},
     "output_type": "execute_result"
    }
   ],
   "source": [
    "x = 60\n",
    "y = 10\n",
    "x + y"
   ]
  },
  {
   "cell_type": "code",
   "execution_count": 1,
   "id": "ed44fe8b-e4c1-4fbb-b756-4a94f7485b86",
   "metadata": {},
   "outputs": [
    {
     "data": {
      "text/plain": [
       "1963592793136"
      ]
     },
     "execution_count": 1,
     "metadata": {},
     "output_type": "execute_result"
    }
   ],
   "source": [
    "name = '60 Days Of Python'\n",
    "id(name)"
   ]
  },
  {
   "cell_type": "code",
   "execution_count": 2,
   "id": "65836c0b-5d37-4fd9-96e8-1b7bc93adf91",
   "metadata": {},
   "outputs": [
    {
     "name": "stdin",
     "output_type": "stream",
     "text": [
      " my name is anik\n"
     ]
    }
   ],
   "source": [
    "x = input()"
   ]
  },
  {
   "cell_type": "code",
   "execution_count": 3,
   "id": "c464b7aa-77d0-4487-a008-5affbbf8ac53",
   "metadata": {},
   "outputs": [
    {
     "name": "stdin",
     "output_type": "stream",
     "text": [
      " 100%\n"
     ]
    }
   ],
   "source": [
    "y = input()"
   ]
  },
  {
   "cell_type": "code",
   "execution_count": 4,
   "id": "853ffe06-d8ba-499e-8ab8-c640f8018cd1",
   "metadata": {},
   "outputs": [
    {
     "data": {
      "text/plain": [
       "'my name is anik100%'"
      ]
     },
     "execution_count": 4,
     "metadata": {},
     "output_type": "execute_result"
    }
   ],
   "source": [
    "x + y"
   ]
  },
  {
   "cell_type": "code",
   "execution_count": 5,
   "id": "c842d19c-1f74-4406-9b1d-4814653c52db",
   "metadata": {},
   "outputs": [
    {
     "name": "stdout",
     "output_type": "stream",
     "text": [
      "100 Days of My Life|"
     ]
    }
   ],
   "source": [
    "x = '100'\n",
    "y = ' Days of My Life'\n",
    "print (x + y, sep='&', end='|')# Here & not work because we are addition string"
   ]
  },
  {
   "cell_type": "code",
   "execution_count": 7,
   "id": "f42bd9d5-f5f0-4429-9e2c-5927c637ef7b",
   "metadata": {},
   "outputs": [
    {
     "name": "stdout",
     "output_type": "stream",
     "text": [
      "100 My Life is beautiful\n"
     ]
    }
   ],
   "source": [
    "x = '100'\n",
    "y = ' My Life is beautiful'\n",
    "z = (x+y)\n",
    "print(z)"
   ]
  },
  {
   "cell_type": "code",
   "execution_count": 10,
   "id": "52915244-a67a-4407-bae6-5b791e075fb8",
   "metadata": {},
   "outputs": [
    {
     "name": "stdout",
     "output_type": "stream",
     "text": [
      "60& My Life is beautiful|"
     ]
    }
   ],
   "source": [
    "print( '60', y, sep= '&', end= '|')"
   ]
  },
  {
   "cell_type": "code",
   "execution_count": 5,
   "id": "3b9c8a44-74cd-4e94-9064-22ba811b3419",
   "metadata": {},
   "outputs": [
    {
     "data": {
      "text/plain": [
       "11"
      ]
     },
     "execution_count": 5,
     "metadata": {},
     "output_type": "execute_result"
    }
   ],
   "source": [
    "data = 'This is My Life and is Fill with 100%'\n",
    "data.find('L')"
   ]
  },
  {
   "cell_type": "code",
   "execution_count": 7,
   "id": "ed88cd56-2b66-4a65-bf7c-9cd00f43c644",
   "metadata": {},
   "outputs": [
    {
     "data": {
      "text/plain": [
       "11"
      ]
     },
     "execution_count": 7,
     "metadata": {},
     "output_type": "execute_result"
    }
   ],
   "source": [
    "data.index('L')"
   ]
  },
  {
   "cell_type": "code",
   "execution_count": 8,
   "id": "bfa5e5b1-774e-42dd-a0bf-9fc730294ee3",
   "metadata": {},
   "outputs": [
    {
     "data": {
      "text/plain": [
       "11"
      ]
     },
     "execution_count": 8,
     "metadata": {},
     "output_type": "execute_result"
    }
   ],
   "source": [
    "data.find('L')"
   ]
  },
  {
   "cell_type": "code",
   "execution_count": 9,
   "id": "aa432db1-6a87-4f50-bd73-56f7683ab85c",
   "metadata": {},
   "outputs": [
    {
     "ename": "TypeError",
     "evalue": "slice indices must be integers or None or have an __index__ method",
     "output_type": "error",
     "traceback": [
      "\u001b[1;31m---------------------------------------------------------------------------\u001b[0m",
      "\u001b[1;31mTypeError\u001b[0m                                 Traceback (most recent call last)",
      "Cell \u001b[1;32mIn[9], line 1\u001b[0m\n\u001b[1;32m----> 1\u001b[0m data\u001b[38;5;241m.\u001b[39mfind(\u001b[38;5;124m'\u001b[39m\u001b[38;5;124mL\u001b[39m\u001b[38;5;124m'\u001b[39m,\u001b[38;5;124m'\u001b[39m\u001b[38;5;124ml\u001b[39m\u001b[38;5;124m'\u001b[39m,\u001b[38;5;124m'\u001b[39m\u001b[38;5;124mF\u001b[39m\u001b[38;5;124m'\u001b[39m)\n",
      "\u001b[1;31mTypeError\u001b[0m: slice indices must be integers or None or have an __index__ method"
     ]
    }
   ],
   "source": [
    "data.find('L','l','F')"
   ]
  },
  {
   "cell_type": "code",
   "execution_count": 10,
   "id": "760b7030-ba7d-4a95-a1e7-9715041e6bee",
   "metadata": {},
   "outputs": [
    {
     "data": {
      "text/plain": [
       "37"
      ]
     },
     "execution_count": 10,
     "metadata": {},
     "output_type": "execute_result"
    }
   ],
   "source": [
    "len(data)"
   ]
  },
  {
   "cell_type": "code",
   "execution_count": 11,
   "id": "f9c93dcd-69bb-463f-ab1d-bf59e17d3923",
   "metadata": {},
   "outputs": [
    {
     "data": {
      "text/plain": [
       "11"
      ]
     },
     "execution_count": 11,
     "metadata": {},
     "output_type": "execute_result"
    }
   ],
   "source": [
    "data.find('Life', 4, 15)"
   ]
  },
  {
   "cell_type": "code",
   "execution_count": 12,
   "id": "574809e0-c142-4514-87f0-fe82c06c772d",
   "metadata": {},
   "outputs": [
    {
     "data": {
      "text/plain": [
       "-1"
      ]
     },
     "execution_count": 12,
     "metadata": {},
     "output_type": "execute_result"
    }
   ],
   "source": [
    "data.find('Life', 12, 15)"
   ]
  },
  {
   "cell_type": "code",
   "execution_count": 13,
   "id": "d8d4fd3b-2b50-4808-9a68-f88029e7e35e",
   "metadata": {},
   "outputs": [
    {
     "ename": "ValueError",
     "evalue": "substring not found",
     "output_type": "error",
     "traceback": [
      "\u001b[1;31m---------------------------------------------------------------------------\u001b[0m",
      "\u001b[1;31mValueError\u001b[0m                                Traceback (most recent call last)",
      "Cell \u001b[1;32mIn[13], line 1\u001b[0m\n\u001b[1;32m----> 1\u001b[0m data\u001b[38;5;241m.\u001b[39mindex(\u001b[38;5;124m'\u001b[39m\u001b[38;5;124mLife\u001b[39m\u001b[38;5;124m'\u001b[39m,\u001b[38;5;241m12\u001b[39m, \u001b[38;5;241m15\u001b[39m)\n",
      "\u001b[1;31mValueError\u001b[0m: substring not found"
     ]
    }
   ],
   "source": [
    "data.index('Life',12, 15)"
   ]
  },
  {
   "cell_type": "code",
   "execution_count": 14,
   "id": "b8e90a82-9a56-468d-b695-5aa81070072a",
   "metadata": {},
   "outputs": [
    {
     "ename": "TypeError",
     "evalue": "'str' object is not callable",
     "output_type": "error",
     "traceback": [
      "\u001b[1;31m---------------------------------------------------------------------------\u001b[0m",
      "\u001b[1;31mTypeError\u001b[0m                                 Traceback (most recent call last)",
      "Cell \u001b[1;32mIn[14], line 1\u001b[0m\n\u001b[1;32m----> 1\u001b[0m x \u001b[38;5;241m=\u001b[39m \u001b[38;5;28minput\u001b[39m(data(\u001b[38;5;124m'\u001b[39m\u001b[38;5;124minput a number\u001b[39m\u001b[38;5;124m'\u001b[39m, \u001b[38;5;124m'\u001b[39m\u001b[38;5;124m'\u001b[39m))\n",
      "\u001b[1;31mTypeError\u001b[0m: 'str' object is not callable"
     ]
    }
   ],
   "source": [
    "x = input(data('input a number', ''))"
   ]
  },
  {
   "cell_type": "code",
   "execution_count": 22,
   "id": "114d21f1-b84e-4f2d-91d0-37f8863a4b0f",
   "metadata": {},
   "outputs": [
    {
     "name": "stdin",
     "output_type": "stream",
     "text": [
      "enter your number  100\n",
      "enter your 2nd number  20\n"
     ]
    },
    {
     "data": {
      "text/plain": [
       "120"
      ]
     },
     "execution_count": 22,
     "metadata": {},
     "output_type": "execute_result"
    }
   ],
   "source": [
    "x = int(input('enter your number '))\n",
    "y = int(input('enter your 2nd number '))\n",
    "x + y"
   ]
  },
  {
   "cell_type": "code",
   "execution_count": 23,
   "id": "8df44056-bc1f-4e28-b046-ce7155580510",
   "metadata": {},
   "outputs": [
    {
     "name": "stdin",
     "output_type": "stream",
     "text": [
      "enter your number  100\n",
      "enter your 2nd number  20.59\n"
     ]
    },
    {
     "data": {
      "text/plain": [
       "120.59"
      ]
     },
     "execution_count": 23,
     "metadata": {},
     "output_type": "execute_result"
    }
   ],
   "source": [
    "x = float(input('enter your number '))\n",
    "y = float(input('enter your 2nd number '))\n",
    "x + y"
   ]
  },
  {
   "cell_type": "code",
   "execution_count": 25,
   "id": "623f1626-2ce0-4bce-9216-ad52871500c0",
   "metadata": {},
   "outputs": [
    {
     "data": {
      "text/plain": [
       "2"
      ]
     },
     "execution_count": 25,
     "metadata": {},
     "output_type": "execute_result"
    }
   ],
   "source": [
    "data.count('l')"
   ]
  },
  {
   "cell_type": "code",
   "execution_count": 26,
   "id": "c58c8eb1-b823-4368-a109-aa710157e8c4",
   "metadata": {},
   "outputs": [
    {
     "data": {
      "text/plain": [
       "'this is my life and is fill with 100%'"
      ]
     },
     "execution_count": 26,
     "metadata": {},
     "output_type": "execute_result"
    }
   ],
   "source": [
    "data.lower()"
   ]
  },
  {
   "cell_type": "code",
   "execution_count": 27,
   "id": "52a34c1f-5fb3-48aa-b708-8f53443c252d",
   "metadata": {},
   "outputs": [
    {
     "data": {
      "text/plain": [
       "'THIS IS MY LIFE AND IS FILL WITH 100%'"
      ]
     },
     "execution_count": 27,
     "metadata": {},
     "output_type": "execute_result"
    }
   ],
   "source": [
    "data.upper()"
   ]
  },
  {
   "cell_type": "code",
   "execution_count": 30,
   "id": "e42fe274-4790-4416-9f7b-67caa02cff60",
   "metadata": {},
   "outputs": [
    {
     "data": {
      "text/plain": [
       "'This Is My Life And Is Fill With 100%'"
      ]
     },
     "execution_count": 30,
     "metadata": {},
     "output_type": "execute_result"
    }
   ],
   "source": [
    "data.title()"
   ]
  },
  {
   "cell_type": "code",
   "execution_count": 31,
   "id": "fd6beaf0-4a01-493b-8566-fc44a1d0d41f",
   "metadata": {},
   "outputs": [
    {
     "data": {
      "text/plain": [
       "'This is my life and is fill with 100%'"
      ]
     },
     "execution_count": 31,
     "metadata": {},
     "output_type": "execute_result"
    }
   ],
   "source": [
    "data.capitalize()"
   ]
  },
  {
   "cell_type": "code",
   "execution_count": 32,
   "id": "3dd40854-723f-4728-9266-bfb8f4c46a65",
   "metadata": {},
   "outputs": [
    {
     "data": {
      "text/plain": [
       "'this is my life and is fill with 100%'"
      ]
     },
     "execution_count": 32,
     "metadata": {},
     "output_type": "execute_result"
    }
   ],
   "source": [
    "data.casefold()"
   ]
  },
  {
   "cell_type": "code",
   "execution_count": 33,
   "id": "97d0aa44-8e10-477e-90ce-bf252e2c7507",
   "metadata": {},
   "outputs": [
    {
     "data": {
      "text/plain": [
       "'tHIS IS mY lIFE AND IS fILL WITH 100%'"
      ]
     },
     "execution_count": 33,
     "metadata": {},
     "output_type": "execute_result"
    }
   ],
   "source": [
    "data.swapcase()"
   ]
  },
  {
   "cell_type": "code",
   "execution_count": 34,
   "id": "89da1f86-12d6-48f8-bbbb-c7c002637125",
   "metadata": {},
   "outputs": [
    {
     "data": {
      "text/plain": [
       "'      This is My Life and is Fill with 100%       '"
      ]
     },
     "execution_count": 34,
     "metadata": {},
     "output_type": "execute_result"
    }
   ],
   "source": [
    "data.center(50)"
   ]
  },
  {
   "cell_type": "code",
   "execution_count": 35,
   "id": "53a96cbb-a79a-42f1-90d8-e06c51bb68d4",
   "metadata": {},
   "outputs": [
    {
     "data": {
      "text/plain": [
       "False"
      ]
     },
     "execution_count": 35,
     "metadata": {},
     "output_type": "execute_result"
    }
   ],
   "source": [
    "data.isdigit()"
   ]
  },
  {
   "cell_type": "code",
   "execution_count": 36,
   "id": "0b62bb4e-f743-4ddb-8ad1-27a029dbd77d",
   "metadata": {},
   "outputs": [
    {
     "data": {
      "text/plain": [
       "False"
      ]
     },
     "execution_count": 36,
     "metadata": {},
     "output_type": "execute_result"
    }
   ],
   "source": [
    "data.islower()"
   ]
  },
  {
   "cell_type": "code",
   "execution_count": 37,
   "id": "696dd271-5423-42bf-864f-c33ccd3cd526",
   "metadata": {},
   "outputs": [
    {
     "data": {
      "text/plain": [
       "False"
      ]
     },
     "execution_count": 37,
     "metadata": {},
     "output_type": "execute_result"
    }
   ],
   "source": [
    "data.isupper()"
   ]
  },
  {
   "cell_type": "code",
   "execution_count": 40,
   "id": "4fa4a1a6-c699-4d80-be71-e4b1692aedb9",
   "metadata": {},
   "outputs": [
    {
     "name": "stdout",
     "output_type": "stream",
     "text": [
      "This is My Life and is Fill with 100%\n"
     ]
    }
   ],
   "source": [
    "print(data)"
   ]
  },
  {
   "cell_type": "code",
   "execution_count": 41,
   "id": "8de9cca0-a3a6-4baa-baa0-0886883f2d91",
   "metadata": {},
   "outputs": [
    {
     "data": {
      "text/plain": [
       "False"
      ]
     },
     "execution_count": 41,
     "metadata": {},
     "output_type": "execute_result"
    }
   ],
   "source": [
    "data.istitle()"
   ]
  },
  {
   "cell_type": "code",
   "execution_count": 42,
   "id": "a1903270-a15a-4da9-b116-1d14de33206b",
   "metadata": {},
   "outputs": [
    {
     "data": {
      "text/plain": [
       "'This is My Life and is Fill with 41%'"
      ]
     },
     "execution_count": 42,
     "metadata": {},
     "output_type": "execute_result"
    }
   ],
   "source": [
    "data.replace('100%', '41%')"
   ]
  },
  {
   "cell_type": "code",
   "execution_count": 43,
   "id": "03a652c1-2966-4988-b725-b32dd91718ba",
   "metadata": {},
   "outputs": [
    {
     "data": {
      "text/plain": [
       "['This', 'is', 'My', 'Life', 'and', 'is', 'Fill', 'with', '100%']"
      ]
     },
     "execution_count": 43,
     "metadata": {},
     "output_type": "execute_result"
    }
   ],
   "source": [
    "data.split()"
   ]
  },
  {
   "cell_type": "code",
   "execution_count": 44,
   "id": "a9be84db-f213-4e19-966e-968e839db1cb",
   "metadata": {},
   "outputs": [
    {
     "data": {
      "text/plain": [
       "'and'"
      ]
     },
     "execution_count": 44,
     "metadata": {},
     "output_type": "execute_result"
    }
   ],
   "source": [
    "data.split()[4]"
   ]
  },
  {
   "cell_type": "code",
   "execution_count": 49,
   "id": "6691d087-2cca-4903-ba60-784144b2df67",
   "metadata": {},
   "outputs": [
    {
     "name": "stdout",
     "output_type": "stream",
     "text": [
      "I have 100 Dollar in My Pocket\n"
     ]
    }
   ],
   "source": [
    "print('I have {} Dollar in My Pocket'.format(100))"
   ]
  },
  {
   "cell_type": "code",
   "execution_count": null,
   "id": "53a0b720-6909-4117-b006-ed032e2b4ed7",
   "metadata": {},
   "outputs": [],
   "source": []
  }
 ],
 "metadata": {
  "kernelspec": {
   "display_name": "Python 3 (ipykernel)",
   "language": "python",
   "name": "python3"
  },
  "language_info": {
   "codemirror_mode": {
    "name": "ipython",
    "version": 3
   },
   "file_extension": ".py",
   "mimetype": "text/x-python",
   "name": "python",
   "nbconvert_exporter": "python",
   "pygments_lexer": "ipython3",
   "version": "3.11.7"
  }
 },
 "nbformat": 4,
 "nbformat_minor": 5
}
