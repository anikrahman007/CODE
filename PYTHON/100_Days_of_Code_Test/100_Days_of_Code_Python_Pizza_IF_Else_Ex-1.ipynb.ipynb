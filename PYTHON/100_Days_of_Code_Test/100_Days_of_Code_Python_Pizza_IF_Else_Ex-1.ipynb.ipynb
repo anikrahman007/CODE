{
 "cells": [
  {
   "cell_type": "code",
   "execution_count": 5,
   "id": "cbd1f2aa-284e-4b13-9ab5-d2f31f6940a5",
   "metadata": {},
   "outputs": [
    {
     "name": "stdin",
     "output_type": "stream",
     "text": [
      "Do You want Pizza?? Y or N ? y\n"
     ]
    },
    {
     "name": "stdout",
     "output_type": "stream",
     "text": [
      "Thank You for Choosing Python Pizza Deliveries!!!\n"
     ]
    },
    {
     "name": "stdin",
     "output_type": "stream",
     "text": [
      "What Size Pizaa do You Want? S, M or L ?  s\n"
     ]
    },
    {
     "name": "stdout",
     "output_type": "stream",
     "text": [
      "Small Pizza only $15\n"
     ]
    },
    {
     "name": "stdin",
     "output_type": "stream",
     "text": [
      "Do You Want Pepperoni? Y or N ? y\n"
     ]
    },
    {
     "name": "stdout",
     "output_type": "stream",
     "text": [
      "You Have to add $2 for Pepperoni\n",
      "Your Total Bill is: $17\n"
     ]
    },
    {
     "name": "stdin",
     "output_type": "stream",
     "text": [
      "Do You want Extra Cheese? Y or N ? y\n"
     ]
    },
    {
     "name": "stdout",
     "output_type": "stream",
     "text": [
      "You have to add extra $1 for this\n",
      "Ok, Your Final Bill is: $18\n"
     ]
    }
   ],
   "source": [
    "want_pizza = input(\"Do You want Pizza?? Y or N ?\")\n",
    "if want_pizza == \"y\":\n",
    "    print(\"Thank You for Choosing Python Pizza Deliveries!!!\")\n",
    "    size = input(\"What Size Pizaa do You Want? S, M or L ? \")\n",
    "    bill = 0\n",
    "\n",
    "    if size == \"s\":\n",
    "        bill = 15\n",
    "        print(\"Small Pizza only $15\")\n",
    "    elif size == \"m\":\n",
    "        bill = 20\n",
    "        print(\"Medium Pizza only $20\")\n",
    "    else:\n",
    "        bill = 25\n",
    "        print(\"Large Pizza only $25\")\n",
    "        \n",
    "    add_pepperoni = input(\"Do You Want Pepperoni? Y or N ?\")\n",
    "    if add_pepperoni == \"y\":\n",
    "        if size == \"s\":\n",
    "            bill += 2\n",
    "            print(\"You Have to add $2 for Pepperoni\")\n",
    "        elif size == \"m\" or \"l\":\n",
    "            bill += 3\n",
    "            print(\"You Have to add $3 for Pepperoni\")\n",
    "    print(f\"Your Total Bill is: ${bill}\")\n",
    "\n",
    "    extra_cheese = input(\"Do You want Extra Cheese? Y or N ?\")\n",
    "    if extra_cheese == \"y\":\n",
    "        bill += 1\n",
    "        print(\"You have to add extra $1 for this\")\n",
    "    print(f\"And, Your Final Bill is: ${bill}\")\n",
    "    \n",
    "else:\n",
    "    print(\"ooh Sorry, Let's Play another Day...\")\n",
    "    "
   ]
  }
 ],
 "metadata": {
  "kernelspec": {
   "display_name": "Python 3 (ipykernel)",
   "language": "python",
   "name": "python3"
  },
  "language_info": {
   "codemirror_mode": {
    "name": "ipython",
    "version": 3
   },
   "file_extension": ".py",
   "mimetype": "text/x-python",
   "name": "python",
   "nbconvert_exporter": "python",
   "pygments_lexer": "ipython3",
   "version": "3.11.7"
  }
 },
 "nbformat": 4,
 "nbformat_minor": 5
}
