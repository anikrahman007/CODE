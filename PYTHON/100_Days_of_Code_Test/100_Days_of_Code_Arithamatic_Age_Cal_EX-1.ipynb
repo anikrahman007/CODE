{
 "cells": [
  {
   "cell_type": "code",
   "execution_count": 1,
   "id": "968522e4-ed2a-42a6-b819-097bf65a6f78",
   "metadata": {},
   "outputs": [
    {
     "name": "stdin",
     "output_type": "stream",
     "text": [
      " 70\n"
     ]
    },
    {
     "name": "stdout",
     "output_type": "stream",
     "text": [
      "You are 70 years old and you live 3640 weeks in a lifetime and you have left 1040 weeks in your lifetime\n"
     ]
    }
   ],
   "source": [
    "age = int(input())\n",
    "x = age * 52\n",
    "y = (90 * 52) - x\n",
    "print(f\"You are {age} years old and you live {x} weeks in a lifetime and you have left {y} weeks in your lifetime\")"
   ]
  },
  {
   "cell_type": "code",
   "execution_count": 4,
   "id": "74dab798-d759-4eea-99c8-0db5abeca662",
   "metadata": {},
   "outputs": [
    {
     "name": "stdout",
     "output_type": "stream",
     "text": [
      "<class 'float'>\n"
     ]
    }
   ],
   "source": [
    "a = int(\"5\") / int(2.7)\n",
    "print(type(a))"
   ]
  }
 ],
 "metadata": {
  "kernelspec": {
   "display_name": "Python 3 (ipykernel)",
   "language": "python",
   "name": "python3"
  },
  "language_info": {
   "codemirror_mode": {
    "name": "ipython",
    "version": 3
   },
   "file_extension": ".py",
   "mimetype": "text/x-python",
   "name": "python",
   "nbconvert_exporter": "python",
   "pygments_lexer": "ipython3",
   "version": "3.11.7"
  }
 },
 "nbformat": 4,
 "nbformat_minor": 5
}
