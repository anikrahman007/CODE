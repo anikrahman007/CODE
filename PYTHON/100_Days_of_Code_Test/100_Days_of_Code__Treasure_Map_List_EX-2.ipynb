{
 "cells": [
  {
   "cell_type": "code",
   "execution_count": 16,
   "id": "3c45921a-43ba-44fa-bb3f-a1e9743a1c05",
   "metadata": {},
   "outputs": [
    {
     "name": "stdout",
     "output_type": "stream",
     "text": [
      "Hiding Your Treasure! X mark is the spot\n"
     ]
    },
    {
     "name": "stdin",
     "output_type": "stream",
     "text": [
      " f7\n"
     ]
    },
    {
     "ename": "IndexError",
     "evalue": "list index out of range",
     "output_type": "error",
     "traceback": [
      "\u001b[1;31m---------------------------------------------------------------------------\u001b[0m",
      "\u001b[1;31mIndexError\u001b[0m                                Traceback (most recent call last)",
      "Cell \u001b[1;32mIn[16], line 16\u001b[0m\n\u001b[0;32m     14\u001b[0m row_index \u001b[38;5;241m=\u001b[39m abc\u001b[38;5;241m.\u001b[39mindex(letter)\n\u001b[0;32m     15\u001b[0m col_index \u001b[38;5;241m=\u001b[39m \u001b[38;5;28mint\u001b[39m(position[\u001b[38;5;241m1\u001b[39m]) \u001b[38;5;241m-\u001b[39m \u001b[38;5;241m1\u001b[39m\n\u001b[1;32m---> 16\u001b[0m \u001b[38;5;28mmap\u001b[39m[col_index][row_index] \u001b[38;5;241m=\u001b[39m \u001b[38;5;124m\"\u001b[39m\u001b[38;5;124mX\u001b[39m\u001b[38;5;124m\"\u001b[39m\n\u001b[0;32m     17\u001b[0m \u001b[38;5;28mprint\u001b[39m(\u001b[38;5;124mf\u001b[39m\u001b[38;5;124m\"\u001b[39m\u001b[38;5;132;01m{\u001b[39;00mline1\u001b[38;5;132;01m}\u001b[39;00m\u001b[38;5;124m \u001b[39m\u001b[38;5;130;01m\\n\u001b[39;00m\u001b[38;5;132;01m{\u001b[39;00mline2\u001b[38;5;132;01m}\u001b[39;00m\u001b[38;5;124m \u001b[39m\u001b[38;5;130;01m\\n\u001b[39;00m\u001b[38;5;132;01m{\u001b[39;00mline3\u001b[38;5;132;01m}\u001b[39;00m\u001b[38;5;124m \u001b[39m\u001b[38;5;130;01m\\n\u001b[39;00m\u001b[38;5;132;01m{\u001b[39;00mline4\u001b[38;5;132;01m}\u001b[39;00m\u001b[38;5;124m \u001b[39m\u001b[38;5;130;01m\\n\u001b[39;00m\u001b[38;5;132;01m{\u001b[39;00mline5\u001b[38;5;132;01m}\u001b[39;00m\u001b[38;5;124m \u001b[39m\u001b[38;5;130;01m\\n\u001b[39;00m\u001b[38;5;132;01m{\u001b[39;00mline6\u001b[38;5;132;01m}\u001b[39;00m\u001b[38;5;124m\"\u001b[39m)\n",
      "\u001b[1;31mIndexError\u001b[0m: list index out of range"
     ]
    }
   ],
   "source": [
    "line1 = [\" \", \" \", \" \", \" \", \" \", \" \"]\n",
    "line2 = [\" \", \" \", \" \", \" \", \" \", \" \"]\n",
    "line3 = [\" \", \" \", \" \", \" \", \" \", \" \"]\n",
    "line4 = [\" \", \" \", \" \", \" \", \" \", \" \"]\n",
    "line5 = [\" \", \" \", \" \", \" \", \" \", \" \"]\n",
    "line6 = [\" \", \" \", \" \", \" \", \" \", \" \"]\n",
    "\n",
    "map = [line1, line2, line3, line4, line5, line6]\n",
    "\n",
    "print(\"Hiding Your Treasure! X mark is the spot\")\n",
    "position = input()\n",
    "letter = position[0].lower()\n",
    "abc = [\"a\",\"b\",\"c\",\"d\",\"e\",\"f\"]\n",
    "row_index = abc.index(letter)\n",
    "col_index = int(position[1]) - 1\n",
    "map[col_index][row_index] = \"X\"\n",
    "print(f\"{line1} \\n{line2} \\n{line3} \\n{line4} \\n{line5} \\n{line6}\")"
   ]
  }
 ],
 "metadata": {
  "kernelspec": {
   "display_name": "Python 3 (ipykernel)",
   "language": "python",
   "name": "python3"
  },
  "language_info": {
   "codemirror_mode": {
    "name": "ipython",
    "version": 3
   },
   "file_extension": ".py",
   "mimetype": "text/x-python",
   "name": "python",
   "nbconvert_exporter": "python",
   "pygments_lexer": "ipython3",
   "version": "3.11.7"
  }
 },
 "nbformat": 4,
 "nbformat_minor": 5
}
