{
 "cells": [
  {
   "cell_type": "code",
   "execution_count": 4,
   "id": "b80446dd-07f8-46aa-9e3b-dd002f850e17",
   "metadata": {},
   "outputs": [
    {
     "name": "stdout",
     "output_type": "stream",
     "text": [
      "Good Afternoon\n"
     ]
    }
   ],
   "source": [
    "import time\n",
    "a = int(time.strftime('%H'))\n",
    "\n",
    "match a:\n",
    "\n",
    "    case 8 if (a >= 8 and a <=10):\n",
    "        print(\"Good Morning\")\n",
    "\n",
    "    case _ if(a >= 12 and a <= 14):\n",
    "        print(\"Good Afternoon\")\n",
    "\n",
    "    case _ if (a >= 17 and a <= 19):\n",
    "        print(\"Good Evening\")\n",
    "\n",
    "    case _:\n",
    "        print(\"Have a Nice Day\", a)\n"
   ]
  },
  {
   "cell_type": "code",
   "execution_count": 5,
   "id": "a87d5106-0fce-40f4-98af-602ae3833a42",
   "metadata": {},
   "outputs": [
    {
     "name": "stdout",
     "output_type": "stream",
     "text": [
      "x % 2 == 0 and case is 4\n"
     ]
    }
   ],
   "source": [
    "x = 4\n",
    "# x is the variable to match\n",
    "match x:\n",
    "    # if x is 0\n",
    "    case 0:\n",
    "        print(\"x is zero\")\n",
    "    # case with if-condition\n",
    "    case 4 if x % 2 == 0:\n",
    "        print(\"x % 2 == 0 and case is 4\")\n",
    "    # Empty case with if-condition\n",
    "    case _ if x < 10:\n",
    "        print(\"x is < 10\")\n",
    "    # default case(will only be matched if the above cases were not matched)\n",
    "    # so it is basically just an else:\n",
    "    case _:\n",
    "        print(x)"
   ]
  },
  {
   "cell_type": "code",
   "execution_count": null,
   "id": "a464dbf5-11bf-44fd-bfd4-3ebb9c40069f",
   "metadata": {},
   "outputs": [],
   "source": []
  }
 ],
 "metadata": {
  "kernelspec": {
   "display_name": "Python 3 (ipykernel)",
   "language": "python",
   "name": "python3"
  },
  "language_info": {
   "codemirror_mode": {
    "name": "ipython",
    "version": 3
   },
   "file_extension": ".py",
   "mimetype": "text/x-python",
   "name": "python",
   "nbconvert_exporter": "python",
   "pygments_lexer": "ipython3",
   "version": "3.11.7"
  }
 },
 "nbformat": 4,
 "nbformat_minor": 5
}
