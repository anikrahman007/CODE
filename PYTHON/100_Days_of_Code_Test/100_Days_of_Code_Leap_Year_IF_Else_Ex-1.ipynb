{
 "cells": [
  {
   "cell_type": "code",
   "execution_count": 6,
   "id": "232880d0-9adf-495a-9fce-6a88df9ab5a7",
   "metadata": {},
   "outputs": [
    {
     "name": "stdout",
     "output_type": "stream",
     "text": [
      "Let's Find Out The Leap Year !!!\n"
     ]
    },
    {
     "name": "stdin",
     "output_type": "stream",
     "text": [
      " 3008\n"
     ]
    },
    {
     "name": "stdout",
     "output_type": "stream",
     "text": [
      "This 3008 is Leap Year, Let's Celebrate\n"
     ]
    }
   ],
   "source": [
    "print(\"Let's Find Out The Leap Year !!!\")\n",
    "year = int(input())\n",
    "if (year % 4 == 0 and year % 100 != 0) or (year % 400 == 0):\n",
    "    print(f\"This {year} is Leap Year, Let's Celebrate\")\n",
    "else:\n",
    "    print(f\"This {year} is not Leap Year, Wait for the Next Year!!\")"
   ]
  }
 ],
 "metadata": {
  "kernelspec": {
   "display_name": "Python 3 (ipykernel)",
   "language": "python",
   "name": "python3"
  },
  "language_info": {
   "codemirror_mode": {
    "name": "ipython",
    "version": 3
   },
   "file_extension": ".py",
   "mimetype": "text/x-python",
   "name": "python",
   "nbconvert_exporter": "python",
   "pygments_lexer": "ipython3",
   "version": "3.11.7"
  }
 },
 "nbformat": 4,
 "nbformat_minor": 5
}
