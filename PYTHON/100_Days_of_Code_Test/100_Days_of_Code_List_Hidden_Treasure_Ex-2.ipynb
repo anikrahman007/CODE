{
 "cells": [
  {
   "cell_type": "code",
   "execution_count": 26,
   "id": "e4a64913-3774-4ad5-81fa-ba11ab634ab7",
   "metadata": {},
   "outputs": [
    {
     "name": "stdin",
     "output_type": "stream",
     "text": [
      "Are You Pirate!!!, Y or N y\n"
     ]
    },
    {
     "name": "stdout",
     "output_type": "stream",
     "text": [
      "Finding Your Treasure!! X Mark is the Spot\n"
     ]
    },
    {
     "name": "stdin",
     "output_type": "stream",
     "text": [
      "Start Your Journey!! Wish You Good Luck... d7\n"
     ]
    },
    {
     "ename": "IndexError",
     "evalue": "list index out of range",
     "output_type": "error",
     "traceback": [
      "\u001b[1;31m---------------------------------------------------------------------------\u001b[0m",
      "\u001b[1;31mIndexError\u001b[0m                                Traceback (most recent call last)",
      "Cell \u001b[1;32mIn[26], line 19\u001b[0m\n\u001b[0;32m     17\u001b[0m row_index \u001b[38;5;241m=\u001b[39m letter\u001b[38;5;241m.\u001b[39mindex(spot)\n\u001b[0;32m     18\u001b[0m col_index \u001b[38;5;241m=\u001b[39m \u001b[38;5;28mint\u001b[39m(position[\u001b[38;5;241m1\u001b[39m]) \u001b[38;5;241m-\u001b[39m \u001b[38;5;241m1\u001b[39m\n\u001b[1;32m---> 19\u001b[0m \u001b[38;5;28mmap\u001b[39m[col_index][row_index] \u001b[38;5;241m=\u001b[39m \u001b[38;5;124m\"\u001b[39m\u001b[38;5;124mX\u001b[39m\u001b[38;5;124m\"\u001b[39m\n\u001b[0;32m     21\u001b[0m \u001b[38;5;28;01mif\u001b[39;00m \u001b[38;5;28mmap\u001b[39m[col_index][row_index] \u001b[38;5;241m==\u001b[39m \u001b[38;5;124m\"\u001b[39m\u001b[38;5;124mX\u001b[39m\u001b[38;5;124m\"\u001b[39m:\n\u001b[0;32m     22\u001b[0m     \u001b[38;5;28mprint\u001b[39m(\u001b[38;5;124m\"\u001b[39m\u001b[38;5;124mHurrah!!! You Find the Hidden Treasure...\u001b[39m\u001b[38;5;124m\"\u001b[39m)\n",
      "\u001b[1;31mIndexError\u001b[0m: list index out of range"
     ]
    }
   ],
   "source": [
    "x = input(\"Are You Pirate!!!, Y or N\").lower()\n",
    "if x == \"y\":\n",
    "    stage1 = [\" \", \" \", \" \", \" \", \" \", \" \"]\n",
    "    stage2 = [\" \", \" \", \" \", \" \", \" \", \" \"]\n",
    "    stage3 = [\" \", \" \", \" \", \" \", \" \", \" \"]\n",
    "    stage4 = [\" \", \" \", \" \", \" \", \" \", \" \"]\n",
    "    stage5 = [\" \", \" \", \" \", \" \", \" \", \" \"]\n",
    "    stage6 = [\" \", \" \", \" \", \" \", \" \", \" \"]\n",
    "    map = [stage1, stage2, stage3, stage4, stage5, stage6]\n",
    "    print(\"Finding Your Treasure!! X Mark is the Spot\")\n",
    "    position = input(\"Start Your Journey!! Wish You Good Luck...\")\n",
    "    \n",
    "    spot = position[0].lower()\n",
    "\n",
    "    letter = [\"a\", \"b\", \"c\", \"d\", \"e\", \"f\"]\n",
    "    \n",
    "    row_index = letter.index(spot)\n",
    "    col_index = int(position[1]) - 1\n",
    "    map[col_index][row_index] = \"X\"\n",
    "    \n",
    "    if map[col_index][row_index] == \"X\":\n",
    "        print(\"Hurrah!!! You Find the Hidden Treasure...\")\n",
    "    else:\n",
    "        print(\"ooh Sorry! You are Lost...\")\n",
    "    \n",
    "    print(f\"{stage1},\\n{stage2},\\n{stage3},\\n{stage4},\\n{stage5},\\n{stage6}\")\n",
    "else:\n",
    "    print(\"Only Pirates Can Hunt for The Hidden Treasure....\")"
   ]
  }
 ],
 "metadata": {
  "kernelspec": {
   "display_name": "Python 3 (ipykernel)",
   "language": "python",
   "name": "python3"
  },
  "language_info": {
   "codemirror_mode": {
    "name": "ipython",
    "version": 3
   },
   "file_extension": ".py",
   "mimetype": "text/x-python",
   "name": "python",
   "nbconvert_exporter": "python",
   "pygments_lexer": "ipython3",
   "version": "3.11.7"
  }
 },
 "nbformat": 4,
 "nbformat_minor": 5
}
