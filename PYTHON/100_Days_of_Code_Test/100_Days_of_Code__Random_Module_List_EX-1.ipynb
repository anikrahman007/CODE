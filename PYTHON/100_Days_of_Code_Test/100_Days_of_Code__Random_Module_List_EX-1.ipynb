{
 "cells": [
  {
   "cell_type": "code",
   "execution_count": 23,
   "id": "a048dec6-0264-4aa5-ad89-76c452018a82",
   "metadata": {},
   "outputs": [
    {
     "name": "stdin",
     "output_type": "stream",
     "text": [
      " Angela, Ben, Jenny, Michael, Chloe\n"
     ]
    },
    {
     "name": "stdout",
     "output_type": "stream",
     "text": [
      "5\n",
      "0\n",
      "Angela is going to buy meal today!!!\n"
     ]
    }
   ],
   "source": [
    "names_string = input()\n",
    "names = names_string.split(\", \")\n",
    "random_values = len(names)\n",
    "print(random_values)\n",
    "import random\n",
    "random_names = random.randint(0, random_values - 1)\n",
    "print(random_names)\n",
    "who_will_pay_bill = names[random_names]\n",
    "print(f\"{who_will_pay_bill} is going to buy meal today!!!\")\n",
    "\n"
   ]
  }
 ],
 "metadata": {
  "kernelspec": {
   "display_name": "Python 3 (ipykernel)",
   "language": "python",
   "name": "python3"
  },
  "language_info": {
   "codemirror_mode": {
    "name": "ipython",
    "version": 3
   },
   "file_extension": ".py",
   "mimetype": "text/x-python",
   "name": "python",
   "nbconvert_exporter": "python",
   "pygments_lexer": "ipython3",
   "version": "3.11.7"
  }
 },
 "nbformat": 4,
 "nbformat_minor": 5
}
