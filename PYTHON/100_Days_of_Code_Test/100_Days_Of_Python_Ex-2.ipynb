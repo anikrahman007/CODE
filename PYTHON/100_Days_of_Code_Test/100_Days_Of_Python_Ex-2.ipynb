{
 "cells": [
  {
   "cell_type": "code",
   "execution_count": 5,
   "id": "2dd0fee5-1240-4c7e-bbbd-40e9fe2b9795",
   "metadata": {},
   "outputs": [
    {
     "name": "stdout",
     "output_type": "stream",
     "text": [
      "ech or The Tech may refer to:\n",
      "\n",
      "\n",
      "    An abbreviation of technology or technician\n",
      "\n",
      "    Tech Dinghy, an American sailing dinghy developed at MIT\n",
      "    Tech (mascot), the mascot of Louisiana Tech University, U.S.\n",
      "    Tech (river), in southern France\n",
      "    \"Tech\" (Smash), a 2012 episode of TV series Smash\n",
      "    The Tech (newspaper), newspaper at the Massachusetts Institute of Technology\n",
      "    The Tech Interactive, formerly The Tech Museum of Innovation, or The Tech, a museum in San Jose, California, U.S.\n",
      "    Tech Tower, a building at the Georgia Institute of Technology, Atlanta, Georgia, U.S.\n"
     ]
    }
   ],
   "source": [
    "anik = '''ech or The Tech may refer to:\\n\n",
    "\n",
    "    An abbreviation of technology or technician\\n\n",
    "    Tech Dinghy, an American sailing dinghy developed at MIT\n",
    "    Tech (mascot), the mascot of Louisiana Tech University, U.S.\n",
    "    Tech (river), in southern France\n",
    "    \"Tech\" (Smash), a 2012 episode of TV series Smash\n",
    "    The Tech (newspaper), newspaper at the Massachusetts Institute of Technology\n",
    "    The Tech Interactive, formerly The Tech Museum of Innovation, or The Tech, a museum in San Jose, California, U.S.\n",
    "    Tech Tower, a building at the Georgia Institute of Technology, Atlanta, Georgia, U.S.'''\n",
    "print (anik)\n",
    "        "
   ]
  },
  {
   "cell_type": "code",
   "execution_count": 13,
   "id": "eb5fb3a3-8e1a-4325-a333-8265454dd763",
   "metadata": {},
   "outputs": [
    {
     "name": "stdout",
     "output_type": "stream",
     "text": [
      "Technology is the application of conceptual knowledge for achieving practical goals, \n",
      "especially in a reproducible way.\n",
      "The word technology can also mean the products resulting from such efforts,[2][3]\n",
      " including both tangible tools such as utensils or machines, and intangible ones such as software.\n",
      " Technology plays a critical role in science, engineering, and everyday life. \n"
     ]
    }
   ],
   "source": [
    "anik = \"Technology is the application of conceptual knowledge for achieving practical goals, \\nespecially in a reproducible way.\\nThe word technology can also mean the products resulting from such efforts,[2][3]\\n including both tangible tools such as utensils or machines, and intangible ones such as software.\\n Technology plays a critical role in science, engineering, and everyday life. \"\n",
    "print(anik)"
   ]
  },
  {
   "cell_type": "code",
   "execution_count": 16,
   "id": "e5667551-9856-487f-bda8-d95764b4e0dd",
   "metadata": {},
   "outputs": [
    {
     "name": "stdout",
     "output_type": "stream",
     "text": [
      " !!!!Technology is the application of conceptual knowledge for achieving practical goals, especially in a reproducible way.\n"
     ]
    }
   ],
   "source": [
    "anik = \" !!!!Technology is the application of conceptual knowledge for achieving practical goals, especially in a reproducible way.!!!\"\n",
    "print(anik.rstrip('!'))\n"
   ]
  },
  {
   "cell_type": "code",
   "execution_count": 17,
   "id": "25548f9e-0cff-4c9c-87ac-58c624645cca",
   "metadata": {},
   "outputs": [
    {
     "name": "stdout",
     "output_type": "stream",
     "text": [
      "True\n"
     ]
    }
   ],
   "source": [
    "anik = \" !!!!Technology is the application of conceptual knowledge for achieving practical goals, especially in a reproducible way.!!!\"\n",
    "print(anik.isprintable())"
   ]
  },
  {
   "cell_type": "code",
   "execution_count": 18,
   "id": "7aea0500-63a2-46c0-a958-697e408d8671",
   "metadata": {},
   "outputs": [
    {
     "name": "stdout",
     "output_type": "stream",
     "text": [
      "False\n"
     ]
    }
   ],
   "source": [
    "anik = \" !!!!Technology is the application of conceptual knowledge for achieving practical goals, especially in a reproducible way.!!!\\n\"\n",
    "print(anik.isprintable()) #for this '\\n' charecter it's not printable"
   ]
  },
  {
   "cell_type": "code",
   "execution_count": 29,
   "id": "a09cc23f-85e7-444e-8cce-527bd34d8f7f",
   "metadata": {},
   "outputs": [
    {
     "name": "stdout",
     "output_type": "stream",
     "text": [
      "True\n",
      "False\n",
      "False\n",
      "False\n",
      "!!!!Technology is the application of conceptual knowledge.$$$\n",
      "['!!!!Technology', 'is', 'the', 'application', 'of', 'conceptual', 'knowledge.$$$']\n",
      "[' !!!!Technology is the application of conceptual knowledge', '$$$']\n"
     ]
    }
   ],
   "source": [
    "anik = \" !!!!Technology is the application of conceptual knowledge.$$$\"\n",
    "print(anik.startswith(' '))\n",
    "print(anik.endswith('!!!!'))\n",
    "print(anik.isalnum())\n",
    "print(anik.isalpha())\n",
    "print(anik.strip())\n",
    "print(anik.split())\n",
    "print(anik.split('.'))"
   ]
  },
  {
   "cell_type": "code",
   "execution_count": 33,
   "id": "eec57347-0f80-4875-90fa-a6ef6352220e",
   "metadata": {},
   "outputs": [
    {
     "name": "stdout",
     "output_type": "stream",
     "text": [
      "True\n",
      "False\n"
     ]
    }
   ],
   "source": [
    "anik = \"Technologyistheapplicationofconceptualknowledge007\"\n",
    "print(anik.isalnum())\n",
    "print(anik.isalpha())"
   ]
  },
  {
   "cell_type": "code",
   "execution_count": 37,
   "id": "6bc943c0-9d5f-48b9-91f2-d0aee94d8011",
   "metadata": {},
   "outputs": [
    {
     "name": "stdout",
     "output_type": "stream",
     "text": [
      "True\n",
      "True\n",
      "47\n"
     ]
    }
   ],
   "source": [
    "anik = \"Technologyistheapplicationofconceptualknowledge\"\n",
    "print(anik.isalnum())\n",
    "print(anik.isalpha())\n",
    "print(len(anik.center(20)))"
   ]
  },
  {
   "cell_type": "code",
   "execution_count": 39,
   "id": "01d13039-f66a-46d6-b2cf-58c0fc7e761c",
   "metadata": {},
   "outputs": [
    {
     "name": "stdout",
     "output_type": "stream",
     "text": [
      "25\n",
      "50\n",
      "0\n"
     ]
    }
   ],
   "source": [
    "str1 = \"Welcome to the Console!!!\"\n",
    "print(len(str1))\n",
    "print(len(str1.center(50)))\n",
    "print(str1.count(\"Harry\"))"
   ]
  },
  {
   "cell_type": "code",
   "execution_count": 40,
   "id": "6d0a2f8d-a2ce-414c-b15f-edf096d4e5a3",
   "metadata": {},
   "outputs": [
    {
     "name": "stdout",
     "output_type": "stream",
     "text": [
      "19\n",
      "19\n"
     ]
    }
   ],
   "source": [
    "anik = \" !!!!Technology is the application of conceptual knowledge.$$$\"\n",
    "print(anik.index('the'))\n",
    "print(anik.find('the'))"
   ]
  },
  {
   "cell_type": "code",
   "execution_count": 41,
   "id": "196b7afd-82e2-4e63-8404-5a34b0839377",
   "metadata": {},
   "outputs": [
    {
     "name": "stdout",
     "output_type": "stream",
     "text": [
      "-1\n"
     ]
    },
    {
     "ename": "ValueError",
     "evalue": "substring not found",
     "output_type": "error",
     "traceback": [
      "\u001b[1;31m---------------------------------------------------------------------------\u001b[0m",
      "\u001b[1;31mValueError\u001b[0m                                Traceback (most recent call last)",
      "Cell \u001b[1;32mIn[41], line 3\u001b[0m\n\u001b[0;32m      1\u001b[0m anik \u001b[38;5;241m=\u001b[39m \u001b[38;5;124m\"\u001b[39m\u001b[38;5;124m !!!!Technology is the application of conceptual knowledge.$$$\u001b[39m\u001b[38;5;124m\"\u001b[39m\n\u001b[0;32m      2\u001b[0m \u001b[38;5;28mprint\u001b[39m(anik\u001b[38;5;241m.\u001b[39mfind(\u001b[38;5;124m'\u001b[39m\u001b[38;5;124mmoney\u001b[39m\u001b[38;5;124m'\u001b[39m))\n\u001b[1;32m----> 3\u001b[0m \u001b[38;5;28mprint\u001b[39m(anik\u001b[38;5;241m.\u001b[39mindex(\u001b[38;5;124m'\u001b[39m\u001b[38;5;124mmoney\u001b[39m\u001b[38;5;124m'\u001b[39m))\n",
      "\u001b[1;31mValueError\u001b[0m: substring not found"
     ]
    }
   ],
   "source": [
    "anik = \" !!!!Technology is the application of conceptual knowledge.$$$\"\n",
    "print(anik.find('money'))\n",
    "print(anik.index('money'))\n"
   ]
  },
  {
   "cell_type": "code",
   "execution_count": 1,
   "id": "410c254e-2a11-4a3c-819a-ecaf237ea4bf",
   "metadata": {},
   "outputs": [
    {
     "name": "stdout",
     "output_type": "stream",
     "text": [
      "AR\n"
     ]
    }
   ],
   "source": [
    "anik = 'HARRY'\n",
    "print(anik[-4:-2])"
   ]
  },
  {
   "cell_type": "code",
   "execution_count": 3,
   "id": "5773a422-455c-4c58-80a6-9606b95d4957",
   "metadata": {},
   "outputs": [
    {
     "name": "stdout",
     "output_type": "stream",
     "text": [
      "AR\n"
     ]
    }
   ],
   "source": [
    "print (anik[len(anik)-4: len(anik)-2])"
   ]
  },
  {
   "cell_type": "code",
   "execution_count": null,
   "id": "66fe5cb1-ec6f-4d51-b9c0-818bb8d8a838",
   "metadata": {},
   "outputs": [],
   "source": []
  }
 ],
 "metadata": {
  "kernelspec": {
   "display_name": "Python 3 (ipykernel)",
   "language": "python",
   "name": "python3"
  },
  "language_info": {
   "codemirror_mode": {
    "name": "ipython",
    "version": 3
   },
   "file_extension": ".py",
   "mimetype": "text/x-python",
   "name": "python",
   "nbconvert_exporter": "python",
   "pygments_lexer": "ipython3",
   "version": "3.11.7"
  }
 },
 "nbformat": 4,
 "nbformat_minor": 5
}
